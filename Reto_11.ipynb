{
 "cells": [
  {
   "cell_type": "code",
   "execution_count": null,
   "metadata": {},
   "outputs": [],
   "source": [
    "#Punto 1\n",
    "#crear matrices\n",
    "A = [[2, 0, 1], [3, 0, 0], [5, 1, 1]]\n",
    "B = [[1, 0, 1], [1, 2, 1], [1, 1, 0]]\n",
    "suma = [] #inicializar la matriz de la suma\n",
    "\n",
    "for i in range(len(A)): #usar bucle for para inicializar la matriz vacía con ceros\n",
    "    suma.append([0] * len(A[0]))\n",
    "\n",
    "for i in range(len(A)): #recorrer los elementos de las filas de la matriz A\n",
    "    for o in range(len(A[0])): #recorrer los elementos de las columnas de la matriz A\n",
    "        suma[i][o] = A[i][o] + B[i][o] #sumar matrices\n",
    "\n",
    "print(\"La suma de las matrices A y B es:\") #imprimir matriz\n",
    "for fila in suma:\n",
    "    print(fila)        "
   ]
  },
  {
   "cell_type": "code",
   "execution_count": null,
   "metadata": {},
   "outputs": [],
   "source": [
    "#Punto 2\n",
    "#crear matrices\n",
    "A = [[2, 0, 1], [3, 0, 0], [5, 1, 1]]\n",
    "B = [[1, 0, 1], [1, 2, 1], [1, 1, 0]]\n",
    "producto = [] #crear matriz vacía\n",
    "\n",
    "#inicializar matriz del producto con ceros\n",
    "for i in range(len(A)): #recorrer los elementos de las filas de la matriz A\n",
    "    producto.append([0] * len(B[0])) #multiplicar el primer elemento de A con el primer elemento de B y añadirlo a la matriz vacía\n",
    "#multiplicar matrices   \n",
    "for i in range(len(A)): #recorrer los elementos de las filas de la matriz A\n",
    "    for o in range(len(B[0])): #recorrer los elementos de la primera fila de la matriz B\n",
    "        for u in range(len(B)): #iterar para multiplicar y sumar los elementos\n",
    "            producto[i][o] += A[i][u] * B[u][o]\n",
    "\n",
    "print(\"El producto de las matrices A y B es:\") #imprimir matriz\n",
    "for fila in producto:\n",
    "    print(fila)"
   ]
  },
  {
   "cell_type": "code",
   "execution_count": null,
   "metadata": {},
   "outputs": [],
   "source": [
    "#Punto 3\n",
    "matricita = [[8, 34, 36, 5, 7], [54, 76, 98, 34, 22], [14, 36, 77, 65, 45]] #crear matriz\n",
    "nueva_matricita = [] #crear una matriz vacía\n",
    "\n",
    "for i in range(len(matricita[0])): #recorrer la primera fila en la matriz\n",
    "    nueva_fila = [] #crear la fila vacía de la matriz vacía\n",
    "    for fila in matricita: #usar ciclo for para que me recorra todos los elementos de la fila de la matriz\n",
    "        nueva_fila.append(fila[i]) #añadir cada elemento a la nueva fila de la nueva matriz\n",
    "    nueva_matricita.append(nueva_fila) #añadir la nueva fila a la matriz\n",
    "\n",
    "print(f\"La transpuesta de la matriz {matricita} es {nueva_matricita}\") #imprimir la matriz transpuesta"
   ]
  },
  {
   "cell_type": "code",
   "execution_count": null,
   "metadata": {},
   "outputs": [],
   "source": [
    "#Punto 4\n",
    "A = [[2, 23, 35], [784, 59, 60], [73, 8, 19]] #crear matriz\n",
    "\n",
    "numero_columna = int(input(\"Ingrese la columna que quiere sumar(son 3, entonces ingrese 0,1 o 2): \")) #pedirle al usuario que ingrese la columna a la que quiere acceder\n",
    "\n",
    "if 0 <= numero_columna <= 2: #condición si el número ingresado es una columna\n",
    "    suma = 0 #inicializar la variable suma\n",
    "    for i in range(len(A)): #recorrer filas\n",
    "        suma += A[i][numero_columna] #actualizar la variable suma con cada elemento de la columna\n",
    "    print(f\"La suma de la columna {numero_columna} es {suma}.\") #imprimir la suma de los elementos de la columna seleccionada\n",
    "else: #condición si el número ingresado no es una columna\n",
    "    print(\"Ingrese un número de columna válido.\")"
   ]
  },
  {
   "cell_type": "code",
   "execution_count": null,
   "metadata": {},
   "outputs": [],
   "source": [
    "#Punto 5\n",
    "matriz = [[12, 22, 43], [17, 98, 29], [32, 46, 67]] #crear matriz\n",
    "numero_fila = int(input(\"Ingrese la fila que quiere sumar(son 3, entonces ingrese 0,1 o 2): \")) #pedirle al usuario que ingrese la fila a la que quiere acceder\n",
    "\n",
    "if 0 <= numero_columna <= len(matriz): #condición si el número ingresado es una fila\n",
    "    suma = 0 #inicializar la variable suma\n",
    "    for i in matriz[numero_fila]: #recorrer filas\n",
    "        suma += i #actualizar la variable suma con cada elemento de la fila\n",
    "    print(f\"La suma de la fila {numero_fila} es {suma}.\") #imprimir la suma de los elementos de la fila\n",
    "else: #condición si el número ingresado no es una fila\n",
    "    print(\"Ingrese un número de columna válido.\")"
   ]
  }
 ],
 "metadata": {
  "kernelspec": {
   "display_name": "Python 3",
   "language": "python",
   "name": "python3"
  },
  "language_info": {
   "codemirror_mode": {
    "name": "ipython",
    "version": 3
   },
   "file_extension": ".py",
   "mimetype": "text/x-python",
   "name": "python",
   "nbconvert_exporter": "python",
   "pygments_lexer": "ipython3",
   "version": "3.12.0"
  }
 },
 "nbformat": 4,
 "nbformat_minor": 2
}
